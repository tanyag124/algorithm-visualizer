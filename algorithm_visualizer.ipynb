{
  "nbformat": 4,
  "nbformat_minor": 0,
  "metadata": {
    "colab": {
      "provenance": []
    },
    "kernelspec": {
      "name": "python3",
      "display_name": "Python 3"
    },
    "language_info": {
      "name": "python"
    }
  },
  "cells": [
    {
      "cell_type": "code",
      "execution_count": 2,
      "metadata": {
        "colab": {
          "base_uri": "https://localhost:8080/"
        },
        "id": "dFFQ_Ks7g5j7",
        "outputId": "1025e7ad-59ba-42f4-dd28-bd7735d7d064"
      },
      "outputs": [
        {
          "output_type": "stream",
          "name": "stdout",
          "text": [
            "Requirement already satisfied: numpy in /usr/local/lib/python3.11/dist-packages (2.0.2)\n",
            "Requirement already satisfied: pandas in /usr/local/lib/python3.11/dist-packages (2.2.2)\n",
            "Requirement already satisfied: scikit-learn in /usr/local/lib/python3.11/dist-packages (1.6.1)\n",
            "Requirement already satisfied: matplotlib in /usr/local/lib/python3.11/dist-packages (3.10.0)\n",
            "Requirement already satisfied: seaborn in /usr/local/lib/python3.11/dist-packages (0.13.2)\n",
            "Requirement already satisfied: streamlit in /usr/local/lib/python3.11/dist-packages (1.45.0)\n",
            "Requirement already satisfied: pyngrok in /usr/local/lib/python3.11/dist-packages (7.2.8)\n",
            "Requirement already satisfied: python-dateutil>=2.8.2 in /usr/local/lib/python3.11/dist-packages (from pandas) (2.9.0.post0)\n",
            "Requirement already satisfied: pytz>=2020.1 in /usr/local/lib/python3.11/dist-packages (from pandas) (2025.2)\n",
            "Requirement already satisfied: tzdata>=2022.7 in /usr/local/lib/python3.11/dist-packages (from pandas) (2025.2)\n",
            "Requirement already satisfied: scipy>=1.6.0 in /usr/local/lib/python3.11/dist-packages (from scikit-learn) (1.15.2)\n",
            "Requirement already satisfied: joblib>=1.2.0 in /usr/local/lib/python3.11/dist-packages (from scikit-learn) (1.4.2)\n",
            "Requirement already satisfied: threadpoolctl>=3.1.0 in /usr/local/lib/python3.11/dist-packages (from scikit-learn) (3.6.0)\n",
            "Requirement already satisfied: contourpy>=1.0.1 in /usr/local/lib/python3.11/dist-packages (from matplotlib) (1.3.2)\n",
            "Requirement already satisfied: cycler>=0.10 in /usr/local/lib/python3.11/dist-packages (from matplotlib) (0.12.1)\n",
            "Requirement already satisfied: fonttools>=4.22.0 in /usr/local/lib/python3.11/dist-packages (from matplotlib) (4.57.0)\n",
            "Requirement already satisfied: kiwisolver>=1.3.1 in /usr/local/lib/python3.11/dist-packages (from matplotlib) (1.4.8)\n",
            "Requirement already satisfied: packaging>=20.0 in /usr/local/lib/python3.11/dist-packages (from matplotlib) (24.2)\n",
            "Requirement already satisfied: pillow>=8 in /usr/local/lib/python3.11/dist-packages (from matplotlib) (11.2.1)\n",
            "Requirement already satisfied: pyparsing>=2.3.1 in /usr/local/lib/python3.11/dist-packages (from matplotlib) (3.2.3)\n",
            "Requirement already satisfied: altair<6,>=4.0 in /usr/local/lib/python3.11/dist-packages (from streamlit) (5.5.0)\n",
            "Requirement already satisfied: blinker<2,>=1.5.0 in /usr/local/lib/python3.11/dist-packages (from streamlit) (1.9.0)\n",
            "Requirement already satisfied: cachetools<6,>=4.0 in /usr/local/lib/python3.11/dist-packages (from streamlit) (5.5.2)\n",
            "Requirement already satisfied: click<9,>=7.0 in /usr/local/lib/python3.11/dist-packages (from streamlit) (8.1.8)\n",
            "Requirement already satisfied: protobuf<7,>=3.20 in /usr/local/lib/python3.11/dist-packages (from streamlit) (5.29.4)\n",
            "Requirement already satisfied: pyarrow>=7.0 in /usr/local/lib/python3.11/dist-packages (from streamlit) (18.1.0)\n",
            "Requirement already satisfied: requests<3,>=2.27 in /usr/local/lib/python3.11/dist-packages (from streamlit) (2.32.3)\n",
            "Requirement already satisfied: tenacity<10,>=8.1.0 in /usr/local/lib/python3.11/dist-packages (from streamlit) (9.1.2)\n",
            "Requirement already satisfied: toml<2,>=0.10.1 in /usr/local/lib/python3.11/dist-packages (from streamlit) (0.10.2)\n",
            "Requirement already satisfied: typing-extensions<5,>=4.4.0 in /usr/local/lib/python3.11/dist-packages (from streamlit) (4.13.2)\n",
            "Requirement already satisfied: watchdog<7,>=2.1.5 in /usr/local/lib/python3.11/dist-packages (from streamlit) (6.0.0)\n",
            "Requirement already satisfied: gitpython!=3.1.19,<4,>=3.0.7 in /usr/local/lib/python3.11/dist-packages (from streamlit) (3.1.44)\n",
            "Requirement already satisfied: pydeck<1,>=0.8.0b4 in /usr/local/lib/python3.11/dist-packages (from streamlit) (0.9.1)\n",
            "Requirement already satisfied: tornado<7,>=6.0.3 in /usr/local/lib/python3.11/dist-packages (from streamlit) (6.4.2)\n",
            "Requirement already satisfied: PyYAML>=5.1 in /usr/local/lib/python3.11/dist-packages (from pyngrok) (6.0.2)\n",
            "Requirement already satisfied: jinja2 in /usr/local/lib/python3.11/dist-packages (from altair<6,>=4.0->streamlit) (3.1.6)\n",
            "Requirement already satisfied: jsonschema>=3.0 in /usr/local/lib/python3.11/dist-packages (from altair<6,>=4.0->streamlit) (4.23.0)\n",
            "Requirement already satisfied: narwhals>=1.14.2 in /usr/local/lib/python3.11/dist-packages (from altair<6,>=4.0->streamlit) (1.37.1)\n",
            "Requirement already satisfied: gitdb<5,>=4.0.1 in /usr/local/lib/python3.11/dist-packages (from gitpython!=3.1.19,<4,>=3.0.7->streamlit) (4.0.12)\n",
            "Requirement already satisfied: six>=1.5 in /usr/local/lib/python3.11/dist-packages (from python-dateutil>=2.8.2->pandas) (1.17.0)\n",
            "Requirement already satisfied: charset-normalizer<4,>=2 in /usr/local/lib/python3.11/dist-packages (from requests<3,>=2.27->streamlit) (3.4.1)\n",
            "Requirement already satisfied: idna<4,>=2.5 in /usr/local/lib/python3.11/dist-packages (from requests<3,>=2.27->streamlit) (3.10)\n",
            "Requirement already satisfied: urllib3<3,>=1.21.1 in /usr/local/lib/python3.11/dist-packages (from requests<3,>=2.27->streamlit) (2.4.0)\n",
            "Requirement already satisfied: certifi>=2017.4.17 in /usr/local/lib/python3.11/dist-packages (from requests<3,>=2.27->streamlit) (2025.4.26)\n",
            "Requirement already satisfied: smmap<6,>=3.0.1 in /usr/local/lib/python3.11/dist-packages (from gitdb<5,>=4.0.1->gitpython!=3.1.19,<4,>=3.0.7->streamlit) (5.0.2)\n",
            "Requirement already satisfied: MarkupSafe>=2.0 in /usr/local/lib/python3.11/dist-packages (from jinja2->altair<6,>=4.0->streamlit) (3.0.2)\n",
            "Requirement already satisfied: attrs>=22.2.0 in /usr/local/lib/python3.11/dist-packages (from jsonschema>=3.0->altair<6,>=4.0->streamlit) (25.3.0)\n",
            "Requirement already satisfied: jsonschema-specifications>=2023.03.6 in /usr/local/lib/python3.11/dist-packages (from jsonschema>=3.0->altair<6,>=4.0->streamlit) (2025.4.1)\n",
            "Requirement already satisfied: referencing>=0.28.4 in /usr/local/lib/python3.11/dist-packages (from jsonschema>=3.0->altair<6,>=4.0->streamlit) (0.36.2)\n",
            "Requirement already satisfied: rpds-py>=0.7.1 in /usr/local/lib/python3.11/dist-packages (from jsonschema>=3.0->altair<6,>=4.0->streamlit) (0.24.0)\n"
          ]
        }
      ],
      "source": [
        "!pip install numpy pandas scikit-learn matplotlib seaborn streamlit pyngrok"
      ]
    },
    {
      "cell_type": "code",
      "source": [
        "%%writefile data.py\n",
        "#data generation\n",
        "import numpy as np\n",
        "from sklearn.datasets import make_blobs\n",
        "#data generation\n",
        "import numpy as np\n",
        "from sklearn.datasets import make_blobs\n",
        "\n",
        "def generate_data(n_samples=300, n_features=2, n_clusters=4):\n",
        "    data,_=make_blobs(n_samples=n_samples,n_features=n_features,centers=n_clusters,random_state=42)\n",
        "    return data"
      ],
      "metadata": {
        "colab": {
          "base_uri": "https://localhost:8080/"
        },
        "id": "2lGSmzjrhVaY",
        "outputId": "49e3242a-f4ec-4279-c70b-907b0d465990"
      },
      "execution_count": 3,
      "outputs": [
        {
          "output_type": "stream",
          "name": "stdout",
          "text": [
            "Writing data.py\n"
          ]
        }
      ]
    },
    {
      "cell_type": "code",
      "source": [
        "%%writefile algorithms.py\n",
        "#k-means implementation\n",
        "from sklearn.cluster import KMeans\n",
        "def apply_kmeans(data,n_clusters):\n",
        "    kmeans = KMeans(n_clusters=n_clusters,random_state=42)\n",
        "    labels=kmeans.fit_predict(data)\n",
        "    centers=kmeans.cluster_centers_\n",
        "    return labels,centers"
      ],
      "metadata": {
        "colab": {
          "base_uri": "https://localhost:8080/"
        },
        "id": "6TiPN1LHkS7u",
        "outputId": "b86cc03d-965b-448a-b918-4c3eedc17b9b"
      },
      "execution_count": 4,
      "outputs": [
        {
          "output_type": "stream",
          "name": "stdout",
          "text": [
            "Writing algorithms.py\n"
          ]
        }
      ]
    },
    {
      "cell_type": "code",
      "source": [
        "%%writefile visualizer.py\n",
        "#visualization\n",
        "import matplotlib.pyplot as plt\n",
        "import seaborn as sns\n",
        "import streamlit as st\n",
        "def plot_clusters(data,labels,centers):\n",
        "  plt.clf() #clear any previous plot\n",
        "  plt.figure(figsize=(8,6))\n",
        "  sns.scatterplot(x=data[:,0],y=data[:,1],hue=labels,palette='deep',s=60)\n",
        "  plt.scatter(centers[:,0],centers[:,1],c='red',marker='X',s=200,label='Centers')\n",
        "  plt.legend()\n",
        "  plt.title('K-Means Clustering Visualization')\n",
        "  plt.grid(True)\n",
        "  st.pyplot(plt)\n",
        "def plot_classification(X,y,model):\n",
        "  import numpy as np\n",
        "  from matplotlib.colors import ListedColormap\n",
        "  h=.02\n",
        "  x_min,x_max=X[:,0].min()-1,X[:,0].max()+1\n",
        "  y_min,y_max=X[:,1].min()-1,X[:,1].max()+1\n",
        "  xx,yy=np.meshgrid(np.arange(x_min,x_max,h),np.arange(y_min,y_max,h))\n",
        "  Z=model.predict(np.c_[xx.ravel(),yy.ravel()])\n",
        "  Z=Z.reshape(xx.shape)\n",
        "\n",
        "  plt.clf() #clear any previous plot\n",
        "  plt.figure(figsize=(8,6))\n",
        "  cmap_background=ListedColormap(['#FFAAAA','#AAFFAA','#AAAAFF'])\n",
        "  cmap_points=ListedColormap(['red','blue','green'])\n",
        "  plt.contourf(xx,yy,Z,alpha=0.8,cmap=cmap_background)\n",
        "  plt.scatter(X[:,0],X[:,1],c=y,cmap=cmap_points,edgecolor='k')\n",
        "  plt.title('Classification Visualization')\n",
        "  plt.grid(True)\n",
        "  st.pyplot(plt)\n"
      ],
      "metadata": {
        "colab": {
          "base_uri": "https://localhost:8080/"
        },
        "id": "JywC-Jx4lNFx",
        "outputId": "e9895a33-f5b2-476c-f253-86c45641c89f"
      },
      "execution_count": 5,
      "outputs": [
        {
          "output_type": "stream",
          "name": "stdout",
          "text": [
            "Writing visualizer.py\n"
          ]
        }
      ]
    },
    {
      "cell_type": "code",
      "source": [
        "%%writefile app.py\n",
        "#streamlit app\n",
        "import streamlit as st\n",
        "from algorithms import apply_kmeans\n",
        "from data import generate_data\n",
        "from visualizer import plot_clusters, plot_classification\n",
        "#classifiers\n",
        "from sklearn.datasets import make_classification\n",
        "from sklearn.linear_model import LogisticRegression\n",
        "from sklearn.model_selection import train_test_split\n",
        "from sklearn.metrics import accuracy_score\n",
        "st.title('Algorithm Visualizer')\n",
        "#task selection\n",
        "task=st.sidebar.selectbox('Select Task',['Classification','Clustering','Regression'])\n",
        "if task==\"Clustering\":\n",
        "  st.subheader(\"K-Means Clustering\")\n",
        "  #sidebar controls\n",
        "  n_samples=st.sidebar.slider('Number of Samples',100,1000,300)\n",
        "  n_features=st.sidebar.slider('Number of Features',2,5,2)\n",
        "  n_clusters=st.sidebar.slider('Number of Clusters',2,10,4)\n",
        "  #generate data\n",
        "  data=generate_data(n_samples,n_features,n_clusters)\n",
        "  #apply k-means\n",
        "  labels,centers=apply_kmeans(data,n_clusters)\n",
        "  #display sample data\n",
        "  st.write(\"### sample data\")\n",
        "  st.write(data[:5])\n",
        "  #visualization\n",
        "  st.write(\"### Clustering Visualization\")\n",
        "  plot_clusters(data,labels,centers)\n",
        "elif task==\"Classification\":\n",
        "  st.subheader(\"Classification Algorithms\")\n",
        "  algo_choice= st.selectbox(\"Select Classification Algorithm\",[\"Logistic Regression\",\"K-Nearest Neighbours\",\"Decision Tree Classifier\",\"SVM\",\"Naive Bayes\"])\n",
        "  n_samples=st.sidebar.slider('Number of Samples',100,1000,300)\n",
        "  n_features=2 #fixed to 2 for plotting\n",
        "  n_classes=st.sidebar.slider('Number of Classes',2,3,2)\n",
        "\n",
        "\n",
        "  #generate data\n",
        "  X,y=make_classification(n_samples=n_samples,n_features=2,n_informative=2, n_redundant=0, n_classes=n_classes,random_state=42)\n",
        "  #split data\n",
        "  X_train,X_test,y_train,y_test=train_test_split(X,y,test_size=0.3,random_state=42)\n",
        "  if algo_choice==\"Logistic Regression\":\n",
        "    from sklearn.linear_model import LogisticRegression\n",
        "    model= LogisticRegression()\n",
        "  elif algo_choice==\"K-Nearest Neighbours\":\n",
        "    k_neighbours=st.sidebar.slider('Number of Neighbours',1,15,3)\n",
        "    from sklearn.neighbors import KNeighborsClassifier\n",
        "    model=KNeighborsClassifier(n_neighbors=k_neighbours)\n",
        "  elif algo_choice==\"Decision Tree Classifier\":\n",
        "    from sklearn.tree import DecisionTreeClassifier\n",
        "    model=DecisionTreeClassifier()\n",
        "  elif algo_choice==\"SVM\":\n",
        "    from sklearn.svm import SVC\n",
        "    model=SVC(probability=True)#probability true allows better decision boundaries\n",
        "  elif algo_choice==\"Naive Bayes\":\n",
        "    from sklearn.naive_bayes import GaussianNB\n",
        "    model=GaussianNB()\n",
        "  #train\n",
        "\n",
        "  model.fit(X_train,y_train)\n",
        "  y_pred=model.predict(X_test)\n",
        "  st.write(f\"###Accuracy: {accuracy_score(y_test,y_pred):.2f}\")\n",
        "  #visualization\n",
        "  st.write(\"### Classification Visualization\")\n",
        "  plot_classification(X,y,model)\n",
        "elif task== \"Regression\":\n",
        "  st.subheader(\"Regression Algorithms\")\n",
        "  algo_choice= st.selectbox(\"Select Regression Algorithm\",[\"Linear Regression\",\"Decision Tree Regressor\"])\n",
        "  n_samples=st.sidebar.slider('Number of Samples',100,1000,300)\n",
        "  noise_level=st.sidebar.slider('Noise Level',0.0,10.0,1.0)\n",
        "  from sklearn.datasets import make_regression\n",
        "  from sklearn.metrics import mean_squared_error\n",
        "  from sklearn.model_selection import train_test_split\n",
        "  import numpy as np\n",
        "  import matplotlib.pyplot as plt\n",
        "\n",
        "  X,y=make_regression(n_samples=n_samples,n_features=1,noise=noise_level,random_state=42)\n",
        "  X_train,X_test,y_train,y_test=train_test_split(X,y,test_size=0.3,random_state=42)\n",
        "  if algo_choice==\"Linear Regression\":\n",
        "    from sklearn.linear_model import LinearRegression\n",
        "    model=LinearRegression()\n",
        "  elif algo_choice==\"Decision Tree Regressor\":\n",
        "    from sklearn.tree import DecisionTreeRegressor\n",
        "    model=DecisionTreeRegressor()\n",
        "  model.fit(X_train,y_train)\n",
        "  y_pred=model.predict(X_test)\n",
        "  st.write(f\"###Mean Squared Error: {mean_squared_error(y_test,y_pred):.2f}\")\n",
        "  #plotting the regression line\n",
        "  st.write(\"### Regression Line Visualization\")\n",
        "  fig,ax=plt.subplots()\n",
        "  ax.scatter(X_test,y_test,color='blue',label='Actual')\n",
        "  ax.scatter(X_test,y_pred,color='red',label='Predicted')\n",
        "  ax.set_title(\"Regression Results\")\n",
        "  ax.legend()\n",
        "  st.pyplot(fig)"
      ],
      "metadata": {
        "colab": {
          "base_uri": "https://localhost:8080/"
        },
        "id": "oVWIbBsomEEi",
        "outputId": "a0a1cc34-7ca5-4bd0-d9eb-732149a60b49"
      },
      "execution_count": 15,
      "outputs": [
        {
          "output_type": "stream",
          "name": "stdout",
          "text": [
            "Overwriting app.py\n"
          ]
        }
      ]
    },
    {
      "cell_type": "code",
      "source": [
        "!ngrok config edit\n",
        "!pkill -f ngrok\n",
        "!ngrok authtoken 2uWupreoH9ag9c2k4a8EtPuro8a_6qkqhr1DUbKjNUNKVCpzM\n",
        "!which ngrok"
      ],
      "metadata": {
        "colab": {
          "base_uri": "https://localhost:8080/"
        },
        "id": "N3z0gHyOSXsi",
        "outputId": "e5ff28e0-1fdd-4b63-f86a-9ecbc658fa16"
      },
      "execution_count": 16,
      "outputs": [
        {
          "output_type": "stream",
          "name": "stdout",
          "text": [
            "Opening \"/root/.config/ngrok/ngrok.yml\" with `/bin/bash -c \"nano \\\"/root/.config/ngrok/ngrok.yml\\\"\"`\n",
            "ERROR:  exit status 127\n"
          ]
        },
        {
          "output_type": "stream",
          "name": "stderr",
          "text": [
            "WARNING:pyngrok.process.ngrok:t=2025-05-12T08:55:29+0000 lvl=warn msg=\"Stopping forwarder\" name=http-8501-89587608-c44e-4008-a854-dca74a50340b acceptErr=\"failed to accept connection: Listener closed\"\n",
            "WARNING:pyngrok.process.ngrok:t=2025-05-12T08:55:29+0000 lvl=warn msg=\"Error restarting forwarder\" name=http-8501-89587608-c44e-4008-a854-dca74a50340b err=\"failed to start tunnel: session closed\"\n"
          ]
        },
        {
          "output_type": "stream",
          "name": "stdout",
          "text": [
            "Authtoken saved to configuration file: /root/.config/ngrok/ngrok.yml\n",
            "/usr/local/bin/ngrok\n"
          ]
        }
      ]
    },
    {
      "cell_type": "code",
      "source": [
        "from pyngrok import ngrok\n",
        "import threading\n",
        "#start streamlit in a separate thread\n",
        "def start_streamlit():\n",
        "  import os\n",
        "  os.system('streamlit run app.py')\n",
        "threading.Thread(target=start_streamlit).start()\n",
        "#create ngrok tunnel\n",
        "public_url=ngrok.connect(8501)\n",
        "print(f\"streamlit app is live at: {public_url}\")"
      ],
      "metadata": {
        "colab": {
          "base_uri": "https://localhost:8080/"
        },
        "id": "gHKa2ZKKonHn",
        "outputId": "58dfccff-bfe2-4794-fe94-470fd10771bf"
      },
      "execution_count": 17,
      "outputs": [
        {
          "output_type": "stream",
          "name": "stdout",
          "text": [
            "streamlit app is live at: NgrokTunnel: \"https://e27e-34-106-65-108.ngrok-free.app\" -> \"http://localhost:8501\"\n"
          ]
        }
      ]
    },
    {
      "cell_type": "code",
      "source": [],
      "metadata": {
        "id": "uN69H3WJRbsy"
      },
      "execution_count": 11,
      "outputs": []
    }
  ]
}